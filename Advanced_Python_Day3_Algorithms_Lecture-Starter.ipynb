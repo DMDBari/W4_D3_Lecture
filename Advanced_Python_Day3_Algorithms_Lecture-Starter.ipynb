{
 "cells": [
  {
   "cell_type": "markdown",
   "metadata": {},
   "source": [
    "# Classic Algorithms"
   ]
  },
  {
   "cell_type": "markdown",
   "metadata": {},
   "source": [
    "## Tasks Today:\n",
    "\n",
    "1) <b>Intro to Algorithms</b> <br>\n",
    " &nbsp;&nbsp;&nbsp;&nbsp; a) What are algorithms <br>\n",
    " &nbsp;&nbsp;&nbsp;&nbsp; b) Quick Intro to Big-O Notation <br>\n",
    "2) <b>In-Place Algorithms</b> <br>\n",
    " &nbsp;&nbsp;&nbsp;&nbsp; a) Syntax <br>\n",
    " &nbsp;&nbsp;&nbsp;&nbsp; a) Out of Place Algorithm <br>\n",
    " &nbsp;&nbsp;&nbsp;&nbsp; b) In-Class Exercise #1 <br>\n",
    "3) <b>Two Pointers</b> <br>\n",
    "4) <b>Sorting Algorithms</b> <br>\n",
    "5) <b>Merge Sort</b> <br>\n",
    " &nbsp;&nbsp;&nbsp;&nbsp; a) Video on Algorithms <br>\n",
    " &nbsp;&nbsp;&nbsp;&nbsp; b) How it Works <br>\n",
    "6) <b>Exercises</b> <br>\n",
    " &nbsp;&nbsp;&nbsp;&nbsp; a) Exercise #1 - Reverse a List in Place Using an In-Place Algorithm <br>\n",
    " &nbsp;&nbsp;&nbsp;&nbsp; b) Exercise #2 - Find Distinct Words <br>\n",
    " &nbsp;&nbsp;&nbsp;&nbsp; c) Exercise #3 - Write a program to implement a Linear Search Algorithm. <br>"
   ]
  },
  {
   "cell_type": "markdown",
   "metadata": {},
   "source": [
    "## Intro to Algorithms"
   ]
  },
  {
   "cell_type": "markdown",
   "metadata": {},
   "source": [
    "#### What is an algorithm"
   ]
  },
  {
   "cell_type": "markdown",
   "metadata": {},
   "source": [
    "- An algorithm is a set of instructions for solving a problem \n",
    "- Algorithms are used to solve all types of problems such as sorting data and searching for information\n",
    "- Being able to write efficient algorithms is an important part of being a computer programmer"
   ]
  },
  {
   "cell_type": "markdown",
   "metadata": {},
   "source": [
    "#### Quick Intro to Big O Notation"
   ]
  },
  {
   "cell_type": "markdown",
   "metadata": {},
   "source": [
    "Time and space complexity is the measure of how much time a given action(function) will take to solve a problem. In the same fashion, we determine how much a given data structure will need in terms of memory allocation. A problem can have multiple solutions and finding the optimal solution for the problem needs to be analyzed in time and space.\n",
    "<br>\n",
    "See more <a href=\"https://zippy-lan-200.notion.site/Intro-to-Time-Complexity-ae4a9c7dbefb4b9f9351ade7a2b2fa72\">here</a>"
   ]
  },
  {
   "cell_type": "code",
   "execution_count": null,
   "metadata": {},
   "outputs": [],
   "source": []
  },
  {
   "cell_type": "markdown",
   "metadata": {},
   "source": [
    "## In-Place Algorithms"
   ]
  },
  {
   "cell_type": "markdown",
   "metadata": {},
   "source": [
    "#### Syntax"
   ]
  },
  {
   "cell_type": "code",
   "execution_count": 3,
   "metadata": {},
   "outputs": [],
   "source": [
    "my_list = ['a', 'b', 'c', 'd', 'e', 'f']\n"
   ]
  },
  {
   "cell_type": "code",
   "execution_count": 4,
   "metadata": {},
   "outputs": [
    {
     "data": {
      "text/plain": [
       "['a', 'd', 'c', 'b', 'e', 'f']"
      ]
     },
     "execution_count": 4,
     "metadata": {},
     "output_type": "execute_result"
    }
   ],
   "source": [
    "# Write a function that will swap two elements in place (i.e. modify the original list)\n",
    "\n",
    "def swap(a_list, index1, index2):\n",
    "    temp = a_list[index1]\n",
    "    a_list[index1] = a_list[index2]\n",
    "    a_list[index2] = temp\n",
    "    return a_list\n",
    "\n",
    "swap(my_list, 1, 3)"
   ]
  },
  {
   "cell_type": "code",
   "execution_count": 5,
   "metadata": {},
   "outputs": [
    {
     "name": "stdout",
     "output_type": "stream",
     "text": [
      "['a', 'd', 'c', 'b', 'e', 'f']\n"
     ]
    }
   ],
   "source": [
    "print(my_list)"
   ]
  },
  {
   "cell_type": "code",
   "execution_count": 6,
   "metadata": {},
   "outputs": [
    {
     "name": "stdout",
     "output_type": "stream",
     "text": [
      "['dog', 'cat', 'bird', 'cow', 'horse']\n"
     ]
    }
   ],
   "source": [
    "# a_list[a], a_list[b] = a_list[b], a_list[a]\n",
    "def swap (a_list, index_a, index_b):\n",
    "    a_list[index_a], a_list[index_b] = a_list[index_b], a_list[index_a]\n",
    "\n",
    "my_new_list = ['dog', 'cat', 'horse', 'cow', 'bird']\n",
    "swap(my_new_list, 2, 4)\n",
    "print(my_new_list)"
   ]
  },
  {
   "cell_type": "code",
   "execution_count": 8,
   "metadata": {},
   "outputs": [
    {
     "name": "stdout",
     "output_type": "stream",
     "text": [
      "Before: ['soccer', 'football', 'baseball', 'hockey', 'volleyball', 'basketball']\n",
      "After: ['basketball', 'football', 'baseball', 'hockey', 'volleyball', 'soccer']\n"
     ]
    }
   ],
   "source": [
    "sports = ['soccer', 'football', 'baseball', 'hockey', 'volleyball', 'basketball']\n",
    "\n",
    "print('Before:', sports)\n",
    "swap(sports,0,5)\n",
    "print('After:', sports)"
   ]
  },
  {
   "cell_type": "markdown",
   "metadata": {},
   "source": [
    "#### Out of Place Algorithm"
   ]
  },
  {
   "cell_type": "code",
   "execution_count": 9,
   "metadata": {
    "scrolled": true
   },
   "outputs": [],
   "source": [
    "def out_of_place_swap(a_list, index_a, index_b):\n",
    "    new_list = a_list[:] # Create a copy of a_list\n",
    "    new_list[index_a] = a_list[index_b]\n",
    "    new_list[index_b] = a_list[index_a]\n",
    "    return new_list"
   ]
  },
  {
   "cell_type": "code",
   "execution_count": 10,
   "metadata": {},
   "outputs": [
    {
     "name": "stdout",
     "output_type": "stream",
     "text": [
      "Before: ['Africa', 'Antarctica', 'Asia', 'Australia', 'Europe', 'North America', 'South America']\n",
      "After: ['Africa', 'Antarctica', 'Asia', 'Australia', 'Europe', 'North America', 'South America']\n",
      "New List: ['Africa', 'Antarctica', 'North America', 'Australia', 'Europe', 'Asia', 'South America']\n"
     ]
    }
   ],
   "source": [
    "continents = ['Africa', 'Antarctica', 'Asia', 'Australia', 'Europe', 'North America', 'South America']\n",
    "\n",
    "print('Before:', continents)\n",
    "swapped_continents = out_of_place_swap(continents, 2, 5)\n",
    "print('After:', continents)\n",
    "print('New List:', swapped_continents)"
   ]
  },
  {
   "cell_type": "code",
   "execution_count": 11,
   "metadata": {
    "scrolled": true
   },
   "outputs": [
    {
     "name": "stdout",
     "output_type": "stream",
     "text": [
      "Before: [4, 1, 3, 9, 6, 2, 5, 8, 7]\n",
      "After: [1, 2, 3, 4, 5, 6, 7, 8, 9]\n",
      "Return Value: None\n"
     ]
    }
   ],
   "source": [
    "# .sort() method is in-place\n",
    "\n",
    "unsorted_list = [4, 1, 3, 9, 6, 2, 5, 8, 7]\n",
    "\n",
    "print('Before:', unsorted_list)\n",
    "sort_return = unsorted_list.sort()\n",
    "print('After:', unsorted_list)\n",
    "print('Return Value:', sort_return)"
   ]
  },
  {
   "cell_type": "code",
   "execution_count": 12,
   "metadata": {},
   "outputs": [
    {
     "name": "stdout",
     "output_type": "stream",
     "text": [
      "Before: [4, 1, 3, 9, 6, 2, 5, 8, 7]\n",
      "After: [4, 1, 3, 9, 6, 2, 5, 8, 7]\n",
      "Return Value: [1, 2, 3, 4, 5, 6, 7, 8, 9]\n"
     ]
    }
   ],
   "source": [
    "# sorted function is out-of-place\n",
    "\n",
    "unsorted_list = [4, 1, 3, 9, 6, 2, 5, 8, 7]\n",
    "\n",
    "print('Before:', unsorted_list)\n",
    "sorted_return = sorted(unsorted_list)\n",
    "print('After:', unsorted_list)\n",
    "print('Return Value:', sorted_return)\n"
   ]
  },
  {
   "cell_type": "markdown",
   "metadata": {},
   "source": [
    "#### In-Class Exercise #1 <br>\n",
    "<p>Write a function that takes in four arguments (a_list, index1, index2, index3), and swaps those three positions in the list passed in.</p>"
   ]
  },
  {
   "cell_type": "code",
   "execution_count": 14,
   "metadata": {},
   "outputs": [
    {
     "name": "stdout",
     "output_type": "stream",
     "text": [
      "Old: ['Illinois', 'Indiana', 'Wisconsin', 'Minnesota', 'Michigan', 'Missouri']\n",
      "New: ['Illinois', 'Wisconsin', 'Minnesota', 'Indiana', 'Michigan', 'Missouri']\n"
     ]
    }
   ],
   "source": [
    "some_list = ['Illinois', 'Indiana', 'Wisconsin', 'Minnesota', 'Michigan', 'Missouri']\n",
    "#Possible Output: ['Illinois', 'Minnesota', 'Wisconsin', 'Michigan', 'Indiana', 'Missouri']\n",
    "\n",
    "def swaps(a_list, i1, i2, i3):\n",
    "    a_list[i1], a_list[i2], a_list[i3] = a_list[i2], a_list[i3], a_list[i1]\n",
    "\n",
    "print('Old:', some_list)\n",
    "swaps(some_list, 1, 2, 3)\n",
    "print('New:', some_list)"
   ]
  },
  {
   "cell_type": "markdown",
   "metadata": {},
   "source": [
    "## Two Pointers"
   ]
  },
  {
   "cell_type": "markdown",
   "metadata": {},
   "source": [
    "#### Syntax"
   ]
  },
  {
   "cell_type": "code",
   "execution_count": 15,
   "metadata": {},
   "outputs": [],
   "source": [
    "# Write a function that will reverse a list in place\n",
    "\n",
    "def reverse_list(a_list):\n",
    "    left = 0 # Starts at the begining\n",
    "    right = len(a_list)-1 # Starts at the end\n",
    "    while left < right: # give it a stoping point\n",
    "        a_list[left], a_list[right] = a_list[right], a_list[left] # Swap the pointers\n",
    "        left += 1 # move to the right\n",
    "        right -= 1 # move to the left\n",
    "    # Once the left is right of right, we can return the original list (now reversed)\n",
    "    return a_list\n"
   ]
  },
  {
   "cell_type": "code",
   "execution_count": 16,
   "metadata": {},
   "outputs": [
    {
     "name": "stdout",
     "output_type": "stream",
     "text": [
      "['Illinois', 'Wisconsin', 'Minnesota', 'Indiana', 'Michigan', 'Missouri']\n"
     ]
    }
   ],
   "source": [
    "print(some_list)"
   ]
  },
  {
   "cell_type": "code",
   "execution_count": 17,
   "metadata": {},
   "outputs": [
    {
     "data": {
      "text/plain": [
       "['Missouri', 'Michigan', 'Indiana', 'Minnesota', 'Wisconsin', 'Illinois']"
      ]
     },
     "execution_count": 17,
     "metadata": {},
     "output_type": "execute_result"
    }
   ],
   "source": [
    "reverse_list(some_list)"
   ]
  },
  {
   "cell_type": "code",
   "execution_count": 18,
   "metadata": {},
   "outputs": [
    {
     "name": "stdout",
     "output_type": "stream",
     "text": [
      "['Missouri', 'Michigan', 'Indiana', 'Minnesota', 'Wisconsin', 'Illinois']\n"
     ]
    }
   ],
   "source": [
    "print(some_list)"
   ]
  },
  {
   "cell_type": "code",
   "execution_count": 19,
   "metadata": {},
   "outputs": [],
   "source": [
    "def reverse_out_of_place(a_list):\n",
    "    reversed_list = []\n",
    "    for idx in range(len(a_list)-1, -1, -1):\n",
    "        reversed_list.append(a_list[idx])\n",
    "    return reversed_list"
   ]
  },
  {
   "cell_type": "code",
   "execution_count": 21,
   "metadata": {},
   "outputs": [
    {
     "name": "stdout",
     "output_type": "stream",
     "text": [
      "['Canada', 'Brazil', 'France', 'Japan', 'China', 'Ireland']\n"
     ]
    }
   ],
   "source": [
    "contries = ['Ireland', 'China', 'Japan', 'France', 'Brazil', 'Canada']\n",
    "\n",
    "reverse_contries = reverse_out_of_place(contries)\n",
    "print(reverse_contries)"
   ]
  },
  {
   "cell_type": "code",
   "execution_count": 22,
   "metadata": {},
   "outputs": [
    {
     "name": "stdout",
     "output_type": "stream",
     "text": [
      "['Ireland', 'China', 'Japan', 'France', 'Brazil', 'Canada']\n"
     ]
    }
   ],
   "source": [
    "print(contries)"
   ]
  },
  {
   "cell_type": "markdown",
   "metadata": {},
   "source": [
    "# Sorting Algorithms"
   ]
  },
  {
   "cell_type": "code",
   "execution_count": 24,
   "metadata": {},
   "outputs": [
    {
     "name": "stdout",
     "output_type": "stream",
     "text": [
      "[47, 38, 35, 9, 36, 38, 5, 31, 32, 14]\n"
     ]
    }
   ],
   "source": [
    "from random import randint\n",
    "\n",
    "list_to_sort = [randint(1,50) for _ in range(10)]\n",
    "print(list_to_sort)"
   ]
  },
  {
   "cell_type": "markdown",
   "metadata": {},
   "source": [
    "#### Bubble Sort\n",
    "\n",
    "Worst Case: O(n^2) Time - O(1) Space"
   ]
  },
  {
   "cell_type": "code",
   "execution_count": 25,
   "metadata": {},
   "outputs": [],
   "source": [
    "def bubble_sort(lst):\n",
    "    # When we first start, set up a variable (swapped) to true to begin the while loop\n",
    "    swapped = True\n",
    "    while swapped:\n",
    "        # Begin checking with the assumption (hope?) that we don't have to make any swaps (already sorted)\n",
    "        swapped = False\n",
    "        # Start at the 0-index and loop through to the second to last item (because we check each item and the item to its right)\n",
    "        for idx in range(len(lst)-1):\n",
    "            # Check if the value at idx is greater than the value to its right (idx+1)\n",
    "            if lst[idx]  > lst[idx+1]:\n",
    "                # swap\n",
    "                lst[idx], lst[idx+1] = lst[idx+1], lst[idx]\n",
    "                # since we swapped we must set variable to True\n",
    "                swapped = True\n",
    "    # Once we loop through without making a swap, our list is sorted and we can return\n",
    "    return lst"
   ]
  },
  {
   "cell_type": "code",
   "execution_count": 26,
   "metadata": {},
   "outputs": [
    {
     "data": {
      "text/plain": [
       "[5, 9, 14, 31, 32, 35, 36, 38, 38, 47]"
      ]
     },
     "execution_count": 26,
     "metadata": {},
     "output_type": "execute_result"
    }
   ],
   "source": [
    "bubble_sort(list_to_sort)"
   ]
  },
  {
   "cell_type": "code",
   "execution_count": 27,
   "metadata": {},
   "outputs": [
    {
     "name": "stdout",
     "output_type": "stream",
     "text": [
      "[5, 9, 14, 31, 32, 35, 36, 38, 38, 47]\n"
     ]
    }
   ],
   "source": [
    "print(list_to_sort)"
   ]
  },
  {
   "cell_type": "code",
   "execution_count": 29,
   "metadata": {},
   "outputs": [
    {
     "name": "stdout",
     "output_type": "stream",
     "text": [
      "['Ireland', 'China', 'Japan', 'France', 'Brazil', 'Canada']\n",
      "['Brazil', 'Canada', 'China', 'France', 'Ireland', 'Japan']\n"
     ]
    }
   ],
   "source": [
    "print(contries)\n",
    "bubble_sort(contries)\n",
    "print(contries)"
   ]
  },
  {
   "cell_type": "code",
   "execution_count": 30,
   "metadata": {},
   "outputs": [
    {
     "data": {
      "text/plain": [
       "['Illinois', 'Indiana', 'Michigan', 'Minnesota', 'Missouri', 'Wisconsin']"
      ]
     },
     "execution_count": 30,
     "metadata": {},
     "output_type": "execute_result"
    }
   ],
   "source": [
    "bubble_sort(some_list)"
   ]
  },
  {
   "cell_type": "markdown",
   "metadata": {},
   "source": [
    "##### Insertion Sort\n",
    "\n",
    "Worst Case: O(n^2) time - O(1)space"
   ]
  },
  {
   "cell_type": "code",
   "execution_count": 31,
   "metadata": {},
   "outputs": [
    {
     "name": "stdout",
     "output_type": "stream",
     "text": [
      "[28, 13, 21, 8, 7, 24, 18, 19, 3, 45]\n"
     ]
    }
   ],
   "source": [
    "list_to_sort = [randint(1,50) for _ in range(10)]\n",
    "print(list_to_sort)"
   ]
  },
  {
   "cell_type": "code",
   "execution_count": 32,
   "metadata": {},
   "outputs": [],
   "source": [
    "def insertion_sort(lst):\n",
    "    # Loop over the unordered section (starting at 1 because index-0 is \"sorted\")\n",
    "    for i in range(1,len(lst)):\n",
    "        pointer = i \n",
    "        # While we are not at the front of the list and the element left is greater than our element\n",
    "        while pointer > 0 and lst[pointer-1] > lst[pointer]:\n",
    "            # Swap the element with the element to its left\n",
    "            lst[pointer], lst[pointer - 1] = lst[pointer-1], lst[pointer]\n",
    "            # Move the pointer to the left one index to match our newly swapped element\n",
    "            pointer -= 1\n",
    "    # Once we have looped over the unordered section, the list is ordered and can be returned\n",
    "    return lst"
   ]
  },
  {
   "cell_type": "code",
   "execution_count": 33,
   "metadata": {},
   "outputs": [
    {
     "data": {
      "text/plain": [
       "[3, 7, 8, 13, 18, 19, 21, 24, 28, 45]"
      ]
     },
     "execution_count": 33,
     "metadata": {},
     "output_type": "execute_result"
    }
   ],
   "source": [
    "insertion_sort(list_to_sort)"
   ]
  },
  {
   "cell_type": "code",
   "execution_count": 34,
   "metadata": {},
   "outputs": [
    {
     "name": "stdout",
     "output_type": "stream",
     "text": [
      "[3, 7, 8, 13, 18, 19, 21, 24, 28, 45]\n"
     ]
    }
   ],
   "source": [
    "print(list_to_sort)"
   ]
  },
  {
   "cell_type": "code",
   "execution_count": 35,
   "metadata": {},
   "outputs": [
    {
     "name": "stdout",
     "output_type": "stream",
     "text": [
      "['Angels', 'Dodgers', 'Marlines', 'Red Sox', 'Tigers', 'White Sox', 'Yankees']\n"
     ]
    }
   ],
   "source": [
    "mlb_teams = ['White Sox', 'Red Sox', 'Yankees', 'Angels', 'Dodgers', 'Marlines', 'Tigers']\n",
    "\n",
    "insertion_sort(mlb_teams)\n",
    "\n",
    "print(mlb_teams)"
   ]
  },
  {
   "cell_type": "markdown",
   "metadata": {},
   "source": [
    "## Merge Sort"
   ]
  },
  {
   "cell_type": "markdown",
   "metadata": {},
   "source": [
    "#### How it Works"
   ]
  },
  {
   "cell_type": "code",
   "execution_count": 38,
   "metadata": {},
   "outputs": [
    {
     "name": "stdout",
     "output_type": "stream",
     "text": [
      "[23, 45, 46, 49, 43, 19, 15, 1]\n"
     ]
    }
   ],
   "source": [
    "list_to_sort = [randint(1,50) for _ in range(8)]\n",
    "print(list_to_sort)"
   ]
  },
  {
   "cell_type": "code",
   "execution_count": 39,
   "metadata": {},
   "outputs": [
    {
     "name": "stdout",
     "output_type": "stream",
     "text": [
      "4\n",
      "[23, 45, 46, 49]\n",
      "[43, 19, 15, 1]\n"
     ]
    }
   ],
   "source": [
    "midway = len(list_to_sort) // 2\n",
    "print(midway)\n",
    "\n",
    "left = list_to_sort[:midway]\n",
    "right = list_to_sort[midway:]\n",
    "print(left)\n",
    "print(right)"
   ]
  },
  {
   "cell_type": "code",
   "execution_count": 40,
   "metadata": {},
   "outputs": [],
   "source": [
    "def merge_sort(lst):\n",
    "    # Check if our list can be split\n",
    "    if len(lst) > 1:\n",
    "        # find midway point\n",
    "        midway = len(lst) // 2\n",
    "        # Split the list into a left and right half\n",
    "        print('Splitting...', lst)\n",
    "        left_half = lst[:midway]\n",
    "        right_half = lst[midway:]\n",
    "\n",
    "        # Call the merge_sort on left half\n",
    "        merge_sort(left_half)\n",
    "        # Call the merge_sort on right half\n",
    "        merge_sort(right_half)\n",
    "\n",
    "        # Merge the left and right half lists back into the original list\n",
    "\n",
    "        # index pointers for the three lists\n",
    "        l = 0 # pointer for left half\n",
    "        r = 0 # pointer for the right half\n",
    "        m = 0 # pointer for the main list\n",
    "\n",
    "        # While the left and right pointers are still pointing at valid indices\n",
    "        while l < len(left_half) and r < len(right_half):\n",
    "            # if the element at the left half point is less than the right half pointer\n",
    "            if left_half[l] < right_half[r]:\n",
    "                # Place the left half value in the original list\n",
    "                lst[m] = left_half[l]\n",
    "                # Move the left pointer\n",
    "                l += 1\n",
    "            else:\n",
    "                # Place right half value in the original list\n",
    "                lst[m] = right_half[r]\n",
    "                # Move the right pointer\n",
    "                r += 1\n",
    "            # Either way always increase the main pointer on spot\n",
    "            m += 1\n",
    "\n",
    "        # When one of the halfs finish, copy the rest of the other half into the original\n",
    "        while l < len(left_half):\n",
    "            lst[m] = left_half[l]\n",
    "            l+=1\n",
    "            m+=1\n",
    "        while r < len(right_half):\n",
    "            lst[m] = right_half[r]\n",
    "            r+=1\n",
    "            m+=1\n",
    "    print('Merging...', lst)\n",
    "    return lst"
   ]
  },
  {
   "cell_type": "code",
   "execution_count": 41,
   "metadata": {},
   "outputs": [
    {
     "name": "stdout",
     "output_type": "stream",
     "text": [
      "Splitting... [23, 45, 46, 49, 43, 19, 15, 1]\n",
      "Splitting... [23, 45, 46, 49]\n",
      "Splitting... [23, 45]\n",
      "Merging... [23]\n",
      "Merging... [45]\n",
      "Merging... [23, 45]\n",
      "Splitting... [46, 49]\n",
      "Merging... [46]\n",
      "Merging... [49]\n",
      "Merging... [46, 49]\n",
      "Merging... [23, 45, 46, 49]\n",
      "Splitting... [43, 19, 15, 1]\n",
      "Splitting... [43, 19]\n",
      "Merging... [43]\n",
      "Merging... [19]\n",
      "Merging... [19, 43]\n",
      "Splitting... [15, 1]\n",
      "Merging... [15]\n",
      "Merging... [1]\n",
      "Merging... [1, 15]\n",
      "Merging... [1, 15, 19, 43]\n",
      "Merging... [1, 15, 19, 23, 43, 45, 46, 49]\n"
     ]
    },
    {
     "data": {
      "text/plain": [
       "[1, 15, 19, 23, 43, 45, 46, 49]"
      ]
     },
     "execution_count": 41,
     "metadata": {},
     "output_type": "execute_result"
    }
   ],
   "source": [
    "merge_sort(list_to_sort)"
   ]
  },
  {
   "cell_type": "markdown",
   "metadata": {},
   "source": [
    "# Binary Search\n",
    "\n",
    "The Binary Search algorithm works by finding the number in the middle of a given array and comparing it to the target. **Given that the array is sorted**\n",
    "\n",
    "* The worst case run time for this algorithm is `O(log(n))`"
   ]
  },
  {
   "cell_type": "code",
   "execution_count": null,
   "metadata": {},
   "outputs": [],
   "source": []
  },
  {
   "cell_type": "code",
   "execution_count": null,
   "metadata": {},
   "outputs": [],
   "source": [
    "\n"
   ]
  },
  {
   "cell_type": "code",
   "execution_count": null,
   "metadata": {},
   "outputs": [],
   "source": []
  },
  {
   "cell_type": "code",
   "execution_count": null,
   "metadata": {},
   "outputs": [],
   "source": []
  },
  {
   "cell_type": "markdown",
   "metadata": {},
   "source": [
    "# Exercises"
   ]
  },
  {
   "cell_type": "markdown",
   "metadata": {},
   "source": [
    "### Exercise #1 <br>\n",
    "<p>Write a function that takes a list of integers and returns the median value. *Can assume that the list of integers is sorted in ascending value*.</p>"
   ]
  },
  {
   "cell_type": "code",
   "execution_count": 47,
   "metadata": {},
   "outputs": [],
   "source": [
    "def find_median(lst):\n",
    "    if len(lst) % 2 != 0:\n",
    "        return lst[(len(lst)//2)]\n",
    "    else:\n",
    "        return ((lst[(len(lst)//2) - 1]) + lst[(len(lst)//2)]) / 2"
   ]
  },
  {
   "cell_type": "code",
   "execution_count": 48,
   "metadata": {},
   "outputs": [
    {
     "name": "stdout",
     "output_type": "stream",
     "text": [
      "18\n",
      "33.0\n"
     ]
    }
   ],
   "source": [
    "print(find_median([7, 8, 13, 18, 19, 21, 24]))\n",
    "print(find_median([1, 15, 19, 23, 43, 45, 46, 49]))"
   ]
  },
  {
   "cell_type": "markdown",
   "metadata": {},
   "source": [
    "### Exercise #2 <br>\n",
    "<p>Create a function that counts how many distinct words are in the string below, then outputs a dictionary with the words as the key and the value as the amount of times that word appears in the string.</p>\n",
    "Example Output:<code>{'in': 1, 'computing': 1, 'a': 5, ...}</code>"
   ]
  },
  {
   "cell_type": "code",
   "execution_count": null,
   "metadata": {},
   "outputs": [],
   "source": [
    "a_text = 'In computing, a hash table hash map is a data structure in computing which implements an associative array abstract data type, a structure that can map keys to values. A hash table uses a hash function to compute an index into an array of buckets or slots from which the desired value can be found'\n"
   ]
  },
  {
   "cell_type": "code",
   "execution_count": null,
   "metadata": {},
   "outputs": [],
   "source": []
  },
  {
   "cell_type": "markdown",
   "metadata": {},
   "source": [
    "## Exercise #3\n",
    "\n",
    "Write a function implementing a Linear Search Algorithm. A linear search is a method for finding an element within a list. It sequentially checks each element of the list until a match is found or the whole list has been searched. If you do not find a match, return -1. *You can assume the list is sorted*"
   ]
  },
  {
   "cell_type": "code",
   "execution_count": null,
   "metadata": {},
   "outputs": [],
   "source": []
  },
  {
   "cell_type": "code",
   "execution_count": null,
   "metadata": {},
   "outputs": [],
   "source": []
  },
  {
   "cell_type": "code",
   "execution_count": null,
   "metadata": {},
   "outputs": [],
   "source": []
  },
  {
   "cell_type": "code",
   "execution_count": null,
   "metadata": {},
   "outputs": [],
   "source": []
  },
  {
   "cell_type": "code",
   "execution_count": null,
   "metadata": {},
   "outputs": [],
   "source": []
  }
 ],
 "metadata": {
  "kernelspec": {
   "display_name": "Python 3 (ipykernel)",
   "language": "python",
   "name": "python3"
  },
  "language_info": {
   "codemirror_mode": {
    "name": "ipython",
    "version": 3
   },
   "file_extension": ".py",
   "mimetype": "text/x-python",
   "name": "python",
   "nbconvert_exporter": "python",
   "pygments_lexer": "ipython3",
   "version": "3.12.1"
  }
 },
 "nbformat": 4,
 "nbformat_minor": 2
}
